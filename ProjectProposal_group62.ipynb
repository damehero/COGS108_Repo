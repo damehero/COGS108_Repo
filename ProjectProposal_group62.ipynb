{
 "cells": [
  {
   "cell_type": "markdown",
   "metadata": {},
   "source": [
    "# COGS 108 - Final Project Proposal"
   ]
  },
  {
   "cell_type": "markdown",
   "metadata": {},
   "source": [
    "# Names\n",
    "\n",
    "- Daman Heer \n",
    "- Staci Lin\n",
    "- Syed Adam Emir Putra\n",
    "- Lucas Ryan \n"
   ]
  },
  {
   "cell_type": "markdown",
   "metadata": {},
   "source": [
    "# Group Members IDs\n",
    "\n",
    "- A15394564\n",
    "- A15520434\n",
    "- A15621206\n",
    "- A14956226\n"
   ]
  },
  {
   "cell_type": "markdown",
   "metadata": {},
   "source": [
    "# Research Question"
   ]
  },
  {
   "cell_type": "markdown",
   "metadata": {},
   "source": [
    "Where is the best place to live, based on my major and career path? Where are the potential job markets of the future (which cities are experiencing economic growth, attracting companies/investment, new grads)? How much will my salary be worth with living cost and  population density factored in?"
   ]
  },
  {
   "cell_type": "markdown",
   "metadata": {},
   "source": [
    "## Background and Prior Work"
   ]
  },
  {
   "cell_type": "markdown",
   "metadata": {},
   "source": [
    "As college students on track to graduation, we wanted to understand if acquiring a job with a high salary would require one to relocate to a different state. Although we currently know that there are certain regions that are known to be ideal for certain career paths (i.e. Silicon Valley for majors related to technology), we wanted to analyze further in-depth about other locations that are ideal for other majors. After doing further research on another project that analyzed the correlation between salaries and the value of having a college degree, we wanted to analyze if salaries depended on geographical location. People have made general calculators (i.e. PayScale.com), which makes estimations on salaries that individuals earn based on factors such as the alma matter or university in which they received their degree from. We wanted to go the extra mile and further investigate this question by taking into account living costs of certain regions and how it pays off.\n",
    "\n",
    "This has also led us to ponder into the discussion of where the next Tech Hub might emerge from. As we know today, Silicon Valley is the most popular center for innovation and tech startups. In fact, most of the unicorn companies (companies valued over a billion dollars) all come from there. So we wondered, why do entrepreneurs and technologists yearn to settle at that location when looking for a career? Why did leading companies such as Google, Apple, Facebook all start in Silicon Valley? Were those companies started by college students who went to colleges proximal to Silicon Valley (i.e. Stanford and UC Berkeley)? We wanted to find out if any of these factors actually contributed to the success and image of Silicon Valley and how we could have insight to where the next Silicon Valley might be. From ‘builtin.com’, it shows that San Francisco has only 4,346 tech companies and is the third most expensive city to live in, while New York City has 5,196 tech companies and is the second most expensive city to live in. Garnering examples like these spark insight and test our assumptions about these locations.\n",
    "\n",
    "\n",
    "References (include links):\n",
    "- 1) Cost of living + number of tech companies: https://builtin.com/tech-hubs \n",
    "\n",
    "- 2) Where it pays to attend college (breakdown of salaries for each major): https://www.kaggle.com/wsj/college-salaries?fbclid=IwAR1YFhd7oAkqGA5AK61Vlq14zmalM6z7Ksyaf7-Esbwr6R0wW1dxMuaLeog"
   ]
  },
  {
   "cell_type": "markdown",
   "metadata": {},
   "source": [
    "# Hypothesis\n"
   ]
  },
  {
   "cell_type": "markdown",
   "metadata": {},
   "source": [
    "We predict that we are going to see a positive correlation between certain states and salaries corresponding to respective majors, and that living in an optimal certain region will increase likelihood of earning a higher salary based on career/college major."
   ]
  },
  {
   "cell_type": "markdown",
   "metadata": {},
   "source": [
    "# Data"
   ]
  },
  {
   "cell_type": "markdown",
   "metadata": {},
   "source": [
    "An ideal dataset would cover all the discrepancies we’re seeking to address with this research question. Since our question is about the city mostly, we need geographic-specific data that will tell us the average pay in a city for a given career and the ability to address the fact that living costs heavily factor into the true value of the salary in any given place since the living costs can shift drastically from city to city. Additionally this data would have to be collected on a national level and consistent regardless of location. In order to do this, we have to find a national provider of data that rates all cities by the same metric such as a tourism or housing service. Also data about the average pay of a career nationally would help us place greater weight on whether the salary increase is worth it regardless of the living costs. Since we are looking at several different majors which have to be treated independently, we will need a great number of observations for each given major/career path with little overlap allowed for similar fields that connotes similar pay (i.e. anything careers in similar sectors Graphic Designer <-> UI designer). To summarize, the data we collect should be able to be matched by city or state, while allowing us to make a correlation between the growth rate of certain areas to the relationship between geo-specific salary and living costs in order to establish a ranking system of best places to go with a given major/career path. \n",
    "\n",
    "Datasets:\n",
    "- https://www.kaggle.com/farhankarim1/usa-house-prices\n",
    "(Relevant stats: Avg. Area Income, Avg. Area House Age, Area Population, Price)\n",
    "- https://www.kaggle.com/theriley106/university-statistics\n",
    "(Relevant stats: Public/Private University, Business Reputation Score, Tuition, Engineering Reputation Score, Enrollment Size, Region)"
   ]
  },
  {
   "cell_type": "markdown",
   "metadata": {},
   "source": [
    "# Ethics & Privacy"
   ]
  },
  {
   "cell_type": "markdown",
   "metadata": {},
   "source": [
    "As with any form of data investigation, certain precautions and best-practice procedures must be followed in order to adhere to ethical and privacy standards. By using datasets that have been generated by reputable sources (US Census Bureau, Department of Labor & Commerce, WSJ) we have ensured to the best of our ability that the data being used in our project was collected in an equitable and consensual manner. The datasets we have chosen are public and free to use on our project, and don't seem to interfere with our purposes.\n",
    " \n",
    "Additionally, because we are drawing from such a general and broad range of anonymous statistics, we can naturally avoid violating the privacy of any particular individual. However, there are still certain ethical issues that we must be wary of as we complete our project. A key issue that can arise in our particular project has to do with the biases that already exist in our data. For example, certain datasets may be incomplete or weigh heavily in favor of one category due to convenience sampling. It is our responsibility as data scientists to identify these discrepancies and try to mitigate their impact on our predictions by cross-referencing additional data sources. Something that we must also be conscious of is that we are excluding other universities across the globe, mainly because we want to be specific with our data analyses. Currently, we are only focusing on individuals who have pursued Bachelor degrees, which excludes those who did not get a traditional 4-year degree. This could lead to some biases in our data, but we hope to account for that by narrowing down the population we are examining. "
   ]
  },
  {
   "cell_type": "markdown",
   "metadata": {},
   "source": [
    "# Team Expectations "
   ]
  },
  {
   "cell_type": "markdown",
   "metadata": {},
   "source": [
    "* Staci Lin: I expect my team to work together to collaborate and create an in-depth analysis that leads to great discoveries.\n",
    "* Daman Heer: I expect to collaborate with my peers to leverage our strengths as well as learn about new topics.\n",
    "* Syed Adam Emir Putra: I expect my team to respect each and everyone’s opinion as we are developing our project. This is paramount to our success because everyone will be delegated a task and is crucial to the completion of our tasks.\n",
    "* Lucas Ryan: I expect us to encourage one another to make the project the best it can be while being respectful and considerate of our individual opinions. "
   ]
  },
  {
   "cell_type": "markdown",
   "metadata": {},
   "source": [
    "# Project Timeline Proposal"
   ]
  },
  {
   "cell_type": "markdown",
   "metadata": {},
   "source": [
    "| Meeting Date  | Meeting Time| Completed Before Meeting  | Discuss at Meeting |\n",
    "|---|---|---|---|\n",
    "| 4/19  |  1 PM | Read & Think about COGS 108 expectations; brainstorm topics/questions  | Determine best form of communication; Discuss and decide on final project topic; discuss hypothesis; begin background research | \n",
    "| 4/23  |  10 AM |  Do background research on topic | Discuss ideal dataset(s) and ethics; draft project proposal | \n",
    "| 4/24  | 10 AM  | Edit, finalize, and submit proposal; Search for datasets  | Discuss Wrangling and possible analytical approaches; Assign group members to lead each specific part   |\n",
    "| 4/30  | 6 PM  | Import & Wrangle Data; EDA | Review/Edit wrangling/EDA; Discuss Analysis Plan   |\n",
    "| 5/11  | 12 PM  | Finalize wrangling/EDA; Begin Analysis | Discuss/edit Analysis; Complete project check-in |\n",
    "| 5/13  | 12 PM  | Complete analysis; Draft results/conclusion/discussion | Discuss/edit full project |\n",
    "| 6/5  | Before 11:59 PM  | NA | Turn in Final Project & Group Project Surveys |"
   ]
  }
 ],
 "metadata": {
  "kernelspec": {
   "display_name": "Python 3",
   "language": "python",
   "name": "python3"
  },
  "language_info": {
   "codemirror_mode": {
    "name": "ipython",
    "version": 3
   },
   "file_extension": ".py",
   "mimetype": "text/x-python",
   "name": "python",
   "nbconvert_exporter": "python",
   "pygments_lexer": "ipython3",
   "version": "3.6.7"
  }
 },
 "nbformat": 4,
 "nbformat_minor": 2
}
