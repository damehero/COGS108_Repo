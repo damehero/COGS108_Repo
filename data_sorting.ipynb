{
 "cells": [
  {
   "cell_type": "code",
   "execution_count": 1,
   "metadata": {},
   "outputs": [],
   "source": [
    "%matplotlib inline\n",
    "\n",
    "\n",
    "import numpy as np\n",
    "import pandas as pd\n",
    "import matplotlib.pyplot as plt\n",
    "import seaborn as sns\n",
    "\n",
    "# Configure libraries\n",
    "# The seaborn library makes plots look nicer\n",
    "sns.set()\n",
    "sns.set_context('talk')\n",
    "\n",
    "# Don't display too many rows/cols of DataFrames\n",
    "pd.options.display.max_rows = 7\n",
    "pd.options.display.max_columns = 8\n",
    "\n",
    "# Round decimals when displaying DataFrames\n",
    "pd.set_option('precision', 2)"
   ]
  },
  {
   "cell_type": "code",
   "execution_count": 9,
   "metadata": {},
   "outputs": [
    {
     "data": {
      "text/html": [
       "<div>\n",
       "<style scoped>\n",
       "    .dataframe tbody tr th:only-of-type {\n",
       "        vertical-align: middle;\n",
       "    }\n",
       "\n",
       "    .dataframe tbody tr th {\n",
       "        vertical-align: top;\n",
       "    }\n",
       "\n",
       "    .dataframe thead th {\n",
       "        text-align: right;\n",
       "    }\n",
       "</style>\n",
       "<table border=\"1\" class=\"dataframe\">\n",
       "  <thead>\n",
       "    <tr style=\"text-align: right;\">\n",
       "      <th></th>\n",
       "      <th>Job Title</th>\n",
       "      <th>Salary Estimate</th>\n",
       "      <th>Industry</th>\n",
       "      <th>Sector</th>\n",
       "      <th>Location</th>\n",
       "    </tr>\n",
       "  </thead>\n",
       "  <tbody>\n",
       "    <tr>\n",
       "      <th>0</th>\n",
       "      <td>Product Designer</td>\n",
       "      <td>$129K-$153K (Glassdoor est.)</td>\n",
       "      <td>Internet</td>\n",
       "      <td>Information Technology</td>\n",
       "      <td>Mountain View, CA</td>\n",
       "    </tr>\n",
       "    <tr>\n",
       "      <th>1</th>\n",
       "      <td>Product Designer: Subscriptions</td>\n",
       "      <td>$129K-$153K (Glassdoor est.)</td>\n",
       "      <td>Publishing</td>\n",
       "      <td>Media</td>\n",
       "      <td>Washington, DC</td>\n",
       "    </tr>\n",
       "    <tr>\n",
       "      <th>2</th>\n",
       "      <td>Fire Sprinkler System Designer</td>\n",
       "      <td>$129K-$153K (Glassdoor est.)</td>\n",
       "      <td>Construction</td>\n",
       "      <td>Construction, Repair &amp; Maintenance</td>\n",
       "      <td>Rockford, IL</td>\n",
       "    </tr>\n",
       "    <tr>\n",
       "      <th>...</th>\n",
       "      <td>...</td>\n",
       "      <td>...</td>\n",
       "      <td>...</td>\n",
       "      <td>...</td>\n",
       "      <td>...</td>\n",
       "    </tr>\n",
       "    <tr>\n",
       "      <th>997</th>\n",
       "      <td>Senior Product Design/UX Manager</td>\n",
       "      <td>$94K-$187K (Glassdoor est.)</td>\n",
       "      <td>Home Furniture &amp; Housewares Stores</td>\n",
       "      <td>Retail</td>\n",
       "      <td>Boston, MA</td>\n",
       "    </tr>\n",
       "    <tr>\n",
       "      <th>998</th>\n",
       "      <td>Senior User Experience Designer</td>\n",
       "      <td>$94K-$187K (Glassdoor est.)</td>\n",
       "      <td>Enterprise Software &amp; Network Solutions</td>\n",
       "      <td>Information Technology</td>\n",
       "      <td>Houston, TX</td>\n",
       "    </tr>\n",
       "    <tr>\n",
       "      <th>999</th>\n",
       "      <td>Experience Designer (UX, UI, Visual)</td>\n",
       "      <td>$94K-$187K (Glassdoor est.)</td>\n",
       "      <td>IT Services</td>\n",
       "      <td>Information Technology</td>\n",
       "      <td>Denver, CO</td>\n",
       "    </tr>\n",
       "  </tbody>\n",
       "</table>\n",
       "<p>1000 rows × 5 columns</p>\n",
       "</div>"
      ],
      "text/plain": [
       "                                Job Title               Salary Estimate  \\\n",
       "0                        Product Designer  $129K-$153K (Glassdoor est.)   \n",
       "1         Product Designer: Subscriptions  $129K-$153K (Glassdoor est.)   \n",
       "2          Fire Sprinkler System Designer  $129K-$153K (Glassdoor est.)   \n",
       "..                                    ...                           ...   \n",
       "997      Senior Product Design/UX Manager   $94K-$187K (Glassdoor est.)   \n",
       "998       Senior User Experience Designer   $94K-$187K (Glassdoor est.)   \n",
       "999  Experience Designer (UX, UI, Visual)   $94K-$187K (Glassdoor est.)   \n",
       "\n",
       "                                    Industry  \\\n",
       "0                                   Internet   \n",
       "1                                 Publishing   \n",
       "2                               Construction   \n",
       "..                                       ...   \n",
       "997       Home Furniture & Housewares Stores   \n",
       "998  Enterprise Software & Network Solutions   \n",
       "999                              IT Services   \n",
       "\n",
       "                                 Sector           Location  \n",
       "0                Information Technology  Mountain View, CA  \n",
       "1                                 Media     Washington, DC  \n",
       "2    Construction, Repair & Maintenance       Rockford, IL  \n",
       "..                                  ...                ...  \n",
       "997                              Retail         Boston, MA  \n",
       "998              Information Technology        Houston, TX  \n",
       "999              Information Technology         Denver, CO  \n",
       "\n",
       "[1000 rows x 5 columns]"
      ]
     },
     "execution_count": 9,
     "metadata": {},
     "output_type": "execute_result"
    }
   ],
   "source": [
    "df = pd.read_csv(\"designer.csv\")\n",
    "df = df[['Job Title', 'Salary Estimate', 'Industry', 'Sector','Location']]\n",
    "df"
   ]
  },
  {
   "cell_type": "code",
   "execution_count": 33,
   "metadata": {},
   "outputs": [
    {
     "data": {
      "text/plain": [
       "San Francisco, CA    110\n",
       "New York, NY          82\n",
       "Los Angeles, CA       63\n",
       "                    ... \n",
       "Hilliard, OH           1\n",
       "Bothell, WA            1\n",
       "Gainesville, FL        1\n",
       "Name: Location, Length: 194, dtype: int64"
      ]
     },
     "execution_count": 33,
     "metadata": {},
     "output_type": "execute_result"
    }
   ],
   "source": [
    "location = df['Location'].value_counts()\n",
    "location"
   ]
  },
  {
   "cell_type": "markdown",
   "metadata": {},
   "source": [
    "It is shown that SF has 110 of the listings, New York has 82 and LA has 63 of the listings at "
   ]
  },
  {
   "cell_type": "code",
   "execution_count": null,
   "metadata": {},
   "outputs": [],
   "source": []
  }
 ],
 "metadata": {
  "kernelspec": {
   "display_name": "Python 3",
   "language": "python",
   "name": "python3"
  },
  "language_info": {
   "codemirror_mode": {
    "name": "ipython",
    "version": 3
   },
   "file_extension": ".py",
   "mimetype": "text/x-python",
   "name": "python",
   "nbconvert_exporter": "python",
   "pygments_lexer": "ipython3",
   "version": "3.7.6"
  }
 },
 "nbformat": 4,
 "nbformat_minor": 4
}
